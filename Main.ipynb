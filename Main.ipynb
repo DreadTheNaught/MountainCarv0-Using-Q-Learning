{
 "cells": [
  {
   "cell_type": "code",
   "execution_count": 1,
   "metadata": {},
   "outputs": [],
   "source": [
    "import gymnasium as gym\n",
    "import matplotlib.pyplot as plt\n",
    "import numpy as np\n",
    "import random"
   ]
  },
  {
   "cell_type": "code",
   "execution_count": 2,
   "metadata": {},
   "outputs": [],
   "source": [
    "max_episodes = 50000\n",
    "lr = 0.1\n",
    "discount_factor = 0.9\n",
    "epsilon = 1.0\n",
    "interval = 1000"
   ]
  },
  {
   "cell_type": "code",
   "execution_count": 3,
   "metadata": {},
   "outputs": [],
   "source": [
    "env = gym.make('MountainCar-v0')\n",
    "env._max_episode_steps = 1000\n",
    "\n",
    "env_low = env.observation_space.low\n",
    "env_high = env.observation_space.high\n",
    "\n",
    "pos_space = np.linspace(env_low[0], env_high[0], 18)\n",
    "vel_space = np.linspace(env_low[1], env_high[1], 28)"
   ]
  },
  {
   "cell_type": "code",
   "execution_count": 4,
   "metadata": {},
   "outputs": [],
   "source": [
    "def get_state(state):\n",
    "\n",
    "    pos, vel = state\n",
    "    discretized_pos = np.digitize(pos, pos_space)\n",
    "    discretized_vel = np.digitize(vel, vel_space)\n",
    "\n",
    "    return (discretized_pos, discretized_vel)\n",
    "\n",
    "def max_action(q_table, state, actions = [0, 1, 2]):\n",
    "    return np.argmax(np.array([q_table[state, action] for action in actions]))\n",
    "\n",
    "def choose_action(state, q_table, epsilon):\n",
    "    if random.uniform(0, 1) < epsilon:\n",
    "        return env.action_space.sample()\n",
    "    else:\n",
    "        return max_action(q_table, state)\n",
    "\n",
    "\n",
    "def make_q_table():\n",
    "    col1, col2 = np.meshgrid(range(len(pos_space) + 1),\n",
    "                             range(len(vel_space) + 1))\n",
    "    states = np.column_stack((col1.flatten(), col2.flatten()))\n",
    "    q_table = {}\n",
    "\n",
    "    for state in states:\n",
    "        for action in range(env.action_space.n):\n",
    "            q_table[tuple(state), action] = 0\n",
    "    return q_table"
   ]
  },
  {
   "cell_type": "code",
   "execution_count": 5,
   "metadata": {},
   "outputs": [],
   "source": [
    "def train_q_learning_model(max_episodes, lr, discount_factor, epsilon, interval, max_episode_steps = 1000):\n",
    "    env = gym.make('MountainCar-v0')\n",
    "    env._max_episode_steps = max_episode_steps\n",
    "    \n",
    "    rewards_q = []\n",
    "    current_reward = 0\n",
    "    \n",
    "    q_table = make_q_table()\n",
    "\n",
    "    for ep in range(max_episodes):\n",
    "        observation, info = env.reset()\n",
    "        \n",
    "        if ep % interval == 0:\n",
    "            print('Game number:', ep, 'Epsilon: ',\n",
    "                  epsilon, 'Reward: ', current_reward)\n",
    "         \n",
    "        current_reward = 0\n",
    "        terminated, truncated = False, False\n",
    "        state = get_state(observation)\n",
    "        \n",
    "        while not (terminated or truncated):\n",
    "\n",
    "            action = choose_action(state, q_table, epsilon)  \n",
    "            \n",
    "            next_observation, reward, terminated, truncated, info = env.step(action)\n",
    "            current_reward += reward\n",
    "            \n",
    "            next_state = get_state(next_observation)\n",
    "            \n",
    "            next_action = max_action(q_table, next_state)\n",
    "\n",
    "            q_table[state, action] += lr * (reward + discount_factor * q_table[next_state, next_action] - q_table[state, action])\n",
    "                \n",
    "                \n",
    "            state = next_state\n",
    "            \n",
    "        epsilon = epsilon - 2/max_episodes if epsilon > 0.01 else 0.01\n",
    "        rewards_q.append(current_reward)\n",
    "    return rewards_q, q_table"
   ]
  },
  {
   "cell_type": "code",
   "execution_count": 6,
   "metadata": {},
   "outputs": [],
   "source": [
    "import gymnasium as gym\n",
    "import numpy as np\n",
    "\n",
    "test_rewards_q = []\n",
    "# Assuming 'MountainCar-v0' environment\n",
    "\n",
    "\n",
    "def test_q_learning_model(q_table, episodes=5):\n",
    "    env = gym.make('MountainCar-v0', render_mode='human')\n",
    "    \n",
    "    for ep in range(episodes):\n",
    "        observation, info = env.reset()\n",
    "\n",
    "        test_reward = 0\n",
    "        terminated, truncated = False, False\n",
    "        state = get_state(observation)\n",
    "\n",
    "        while not (terminated or truncated):\n",
    "\n",
    "            action = choose_action(state, q_table, epsilon = 0)  \n",
    "\n",
    "            next_observation, reward, terminated, truncated, info = env.step(action)\n",
    "            test_reward += reward\n",
    "\n",
    "            next_state = get_state(next_observation)\n",
    "\n",
    "            state = next_state\n",
    "\n",
    "        test_rewards_q.append(test_reward)\n",
    "    return test_rewards_q"
   ]
  },
  {
   "cell_type": "code",
   "execution_count": null,
   "metadata": {},
   "outputs": [],
   "source": [
    "# TRAINING COMMAND\n",
    "\n",
    "train_rewards, q_table = train_q_learning_model(max_episodes, lr, discount_factor, epsilon, interval)"
   ]
  },
  {
   "cell_type": "code",
   "execution_count": null,
   "metadata": {},
   "outputs": [],
   "source": [
    "# SAVE Q TABLE FILE\n",
    "\n",
    "file = open('q_table.txt', 'w')\n",
    "file.write(str(q_table))"
   ]
  },
  {
   "cell_type": "code",
   "execution_count": 7,
   "metadata": {},
   "outputs": [],
   "source": [
    "#TESTING COMMAND\n",
    "\n",
    "file = open('q_table.txt', 'r')\n",
    "q_table = eval(file.read())\n",
    "test_rewards = test_q_learning_model(q_table)"
   ]
  },
  {
   "cell_type": "code",
   "execution_count": 1,
   "metadata": {},
   "outputs": [
    {
     "ename": "NameError",
     "evalue": "name 'env' is not defined",
     "output_type": "error",
     "traceback": [
      "\u001b[1;31m---------------------------------------------------------------------------\u001b[0m",
      "\u001b[1;31mNameError\u001b[0m                                 Traceback (most recent call last)",
      "\u001b[1;32mc:\\Users\\prana\\Documents\\Python_Stuff\\Gymnasium\\cargobrrr.ipynb Cell 10\u001b[0m line \u001b[0;36m1\n\u001b[1;32m----> <a href='vscode-notebook-cell:/c%3A/Users/prana/Documents/Python_Stuff/Gymnasium/cargobrrr.ipynb#X12sZmlsZQ%3D%3D?line=0'>1</a>\u001b[0m env\u001b[39m.\u001b[39mclose()\n",
      "\u001b[1;31mNameError\u001b[0m: name 'env' is not defined"
     ]
    }
   ],
   "source": [
    "env.close()"
   ]
  },
  {
   "cell_type": "code",
   "execution_count": null,
   "metadata": {},
   "outputs": [],
   "source": [
    "import matplotlib.pyplot as plt\n",
    "fig, ax = plt.subplots()\n",
    "ax.scatter(range(max_episodes), train_rewards,s=0.5)\n",
    "ax.set_xlabel('Episode')\n",
    "ax.set_ylabel('Reward')\n",
    "ax.set_title('Training Rewards')\n",
    "plt.show()"
   ]
  }
 ],
 "metadata": {
  "kernelspec": {
   "display_name": "Python 3",
   "language": "python",
   "name": "python3"
  },
  "language_info": {
   "codemirror_mode": {
    "name": "ipython",
    "version": 3
   },
   "file_extension": ".py",
   "mimetype": "text/x-python",
   "name": "python",
   "nbconvert_exporter": "python",
   "pygments_lexer": "ipython3",
   "version": "3.11.1"
  }
 },
 "nbformat": 4,
 "nbformat_minor": 2
}
